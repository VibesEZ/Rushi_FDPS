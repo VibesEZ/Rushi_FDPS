{
 "cells": [
  {
   "cell_type": "code",
   "execution_count": 4,
   "metadata": {},
   "outputs": [],
   "source": [
    "import requests"
   ]
  },
  {
   "cell_type": "code",
   "execution_count": 5,
   "metadata": {},
   "outputs": [],
   "source": [
    "url = 'http://localhost:9696/predict'\n",
    "\n",
    "customer_id = 'xyz-123'\n",
    "flight ={\n",
    "    'id':100,\n",
    "    'airline' : 'us',\n",
    "    'flight' : 'sdfsdf',\n",
    "    'airportfrom' : 'bwi',\n",
    "    'airportto' : 'clt',\n",
    "    'dayofweek' : 5,\n",
    "    'time' : 325,\n",
    "    'length' : 83\n",
    "}"
   ]
  },
  {
   "cell_type": "code",
   "execution_count": 6,
   "metadata": {},
   "outputs": [
    {
     "name": "stdout",
     "output_type": "stream",
     "text": [
      "{'delay': False, 'delay_probability': 0.3597092923869639}\n",
      "not sending alert email to to xyz-123\n"
     ]
    }
   ],
   "source": [
    "response = requests.post(url, json=flight).json()\n",
    "print(response)\n",
    "\n",
    "\n",
    "if response['delay'] == True:\n",
    "    print(f'sending alert email to {customer_id}')\n",
    "else:\n",
    "    print(f'not sending alert email to to {customer_id}')"
   ]
  }
 ],
 "metadata": {
  "kernelspec": {
   "display_name": "venv",
   "language": "python",
   "name": "python3"
  },
  "language_info": {
   "codemirror_mode": {
    "name": "ipython",
    "version": 3
   },
   "file_extension": ".py",
   "mimetype": "text/x-python",
   "name": "python",
   "nbconvert_exporter": "python",
   "pygments_lexer": "ipython3",
   "version": "3.11.8"
  }
 },
 "nbformat": 4,
 "nbformat_minor": 2
}
